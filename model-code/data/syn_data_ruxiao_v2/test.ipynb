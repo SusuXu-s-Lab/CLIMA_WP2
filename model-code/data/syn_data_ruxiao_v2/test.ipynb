{
 "cells": [
  {
   "cell_type": "code",
   "execution_count": 3,
   "id": "747d2758",
   "metadata": {},
   "outputs": [
    {
     "name": "stdout",
     "output_type": "stream",
     "text": [
      "Generator data sample:\n",
      "{'timestep': 0, 'decision_type': 0, 'household_home': 'dqcnc7hq', 'household_index': 1, 'self_activation_prob': 0.5022473241619696, 'active_neighbors': 1, 'neighbor_influences': [{'neighbor_home': 'dqcnfqc3', 'neighbor_index': 45, 'link_type': 2, 'influence_prob': 2.7947430167532344e-142}], 'social_influence_term': 0.0, 'final_activation_prob': 0.5022473241619696, 'generator_source': True}\n",
      "t=2 decision counts: Counter({2: 43, 1: 42, 0: 41})\n"
     ]
    }
   ],
   "source": [
    "import pickle\n",
    "with open('/Users/susangao/Desktop/CLIMA/CODE 4.5/data/syn_data_ruxiao_v2/detailed_generator_probabilities.pkl', 'rb') as f:\n",
    "    gen_data = pickle.load(f)\n",
    "\n",
    "# 检查第一条记录\n",
    "print(\"Generator data sample:\")\n",
    "print(gen_data['detailed_log'][0])\n",
    "\n",
    "# 检查t=2时各个decision_type的数量\n",
    "from collections import Counter\n",
    "t2_decisions = [entry['decision_type'] for entry in gen_data['detailed_log'] if entry['timestep'] == 2]\n",
    "decision_counts = Counter(t2_decisions)\n",
    "print(f\"t=2 decision counts: {decision_counts}\")"
   ]
  },
  {
   "cell_type": "code",
   "execution_count": null,
   "id": "3dc8e4c5",
   "metadata": {},
   "outputs": [],
   "source": []
  }
 ],
 "metadata": {
  "kernelspec": {
   "display_name": "py39",
   "language": "python",
   "name": "python3"
  },
  "language_info": {
   "codemirror_mode": {
    "name": "ipython",
    "version": 3
   },
   "file_extension": ".py",
   "mimetype": "text/x-python",
   "name": "python",
   "nbconvert_exporter": "python",
   "pygments_lexer": "ipython3",
   "version": "3.9.20"
  }
 },
 "nbformat": 4,
 "nbformat_minor": 5
}
